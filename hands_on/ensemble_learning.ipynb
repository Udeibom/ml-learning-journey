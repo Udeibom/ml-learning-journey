{
 "cells": [
  {
   "cell_type": "code",
   "execution_count": 1,
   "id": "2c755f57-84e0-4e1e-905a-ec11596b8ed9",
   "metadata": {},
   "outputs": [],
   "source": [
    "import numpy as np\n",
    "import matplotlib.pyplot as plt\n",
    "from sklearn import datasets\n",
    "from sklearn.model_selection import train_test_split, GridSearchCV\n",
    "from sklearn.ensemble import (\n",
    "    VotingClassifier, BaggingClassifier, RandomForestClassifier,\n",
    "    BaggingRegressor, RandomForestRegressor,\n",
    "    AdaBoostClassifier, GradientBoostingClassifier\n",
    ")\n",
    "from sklearn.linear_model import LogisticRegression\n",
    "from sklearn.tree import DecisionTreeClassifier\n",
    "from sklearn.metrics import accuracy_score, mean_squared_error\n",
    "\n",
    "# Load Iris for classification\n",
    "iris = datasets.load_iris()\n",
    "X, y = iris.data, iris.target\n",
    "X_train, X_test, y_train, y_test = train_test_split(\n",
    "    X, y, test_size=0.3, random_state=42\n",
    ")\n",
    "\n",
    "# For regression\n",
    "X_reg, y_reg = datasets.make_moons(n_samples=1000, noise=0.25, random_state=42)\n",
    "Xr_train, Xr_test, yr_train, yr_test = train_test_split(\n",
    "    X_reg, y_reg, test_size=0.3, random_state=42\n",
    ")"
   ]
  },
  {
   "cell_type": "code",
   "execution_count": 2,
   "id": "ca5b8f76-df3d-4319-b379-afbf2b8ea74b",
   "metadata": {},
   "outputs": [
    {
     "name": "stdout",
     "output_type": "stream",
     "text": [
      "VotingClassifier accuracy: 1.0\n",
      "VotingClassifier accuracy: 1.0\n"
     ]
    }
   ],
   "source": [
    "log_clf = LogisticRegression()\n",
    "rnd_clf = RandomForestClassifier(random_state=42)\n",
    "dt_clf = DecisionTreeClassifier(random_state=42)\n",
    "\n",
    "voting_clf_hard = VotingClassifier(\n",
    "    estimators=[('lr', log_clf), ('rf', rnd_clf), ('dt', dt_clf)],\n",
    "    voting='hard'\n",
    ")\n",
    "voting_clf_soft = VotingClassifier(\n",
    "    estimators=[('lr', log_clf), ('rf', rnd_clf), ('dt', dt_clf)],\n",
    "    voting='soft'\n",
    ")\n",
    "\n",
    "for clf in (voting_clf_hard, voting_clf_soft):\n",
    "    clf.fit(X_train, y_train)\n",
    "    print(clf.__class__.__name__, \"accuracy:\", accuracy_score(y_test, clf.predict(X_test)))\n"
   ]
  },
  {
   "cell_type": "code",
   "execution_count": 3,
   "id": "17972778-12df-49a8-b401-734e59bfcc11",
   "metadata": {},
   "outputs": [
    {
     "name": "stdout",
     "output_type": "stream",
     "text": [
      "Bagging classifier accuracy: 1.0\n"
     ]
    }
   ],
   "source": [
    "bag_clf = BaggingClassifier(\n",
    "    DecisionTreeClassifier(), n_estimators=500,\n",
    "    max_samples=100, bootstrap=True, n_jobs=-1, random_state=42\n",
    ")\n",
    "bag_clf.fit(X_train, y_train)\n",
    "print(\"Bagging classifier accuracy:\", accuracy_score(y_test, bag_clf.predict(X_test)))"
   ]
  },
  {
   "cell_type": "code",
   "execution_count": 4,
   "id": "0a76dfae-fd99-4bcf-80aa-e36df50e0bc4",
   "metadata": {},
   "outputs": [
    {
     "name": "stdout",
     "output_type": "stream",
     "text": [
      "Random Forest accuracy: 1.0\n",
      "RF regression MSE: 0.03451875235577146\n"
     ]
    }
   ],
   "source": [
    "rf_clf = RandomForestClassifier(n_estimators=500, max_leaf_nodes=16, n_jobs=-1, random_state=42)\n",
    "rf_clf.fit(X_train, y_train)\n",
    "print(\"Random Forest accuracy:\", accuracy_score(y_test, rf_clf.predict(X_test)))\n",
    "\n",
    "# Regression\n",
    "rf_reg = RandomForestRegressor(n_estimators=500, max_leaf_nodes=16, n_jobs=-1, random_state=42)\n",
    "rf_reg.fit(Xr_train, yr_train)\n",
    "yr_pred = rf_reg.predict(Xr_test)\n",
    "print(\"RF regression MSE:\", mean_squared_error(yr_test, yr_pred))"
   ]
  },
  {
   "cell_type": "code",
   "execution_count": 5,
   "id": "d7df198a-fd67-45bc-b9e7-47234a91a17f",
   "metadata": {},
   "outputs": [
    {
     "name": "stdout",
     "output_type": "stream",
     "text": [
      "sepal length (cm): 0.115\n",
      "sepal width (cm): 0.042\n",
      "petal length (cm): 0.434\n",
      "petal width (cm): 0.409\n"
     ]
    }
   ],
   "source": [
    "for name, score in zip(iris.feature_names, rf_clf.feature_importances_):\n",
    "    print(f\"{name}: {score:.3f}\")"
   ]
  },
  {
   "cell_type": "code",
   "execution_count": 6,
   "id": "0a368bc4-1a37-47fb-9199-0aea40b2510f",
   "metadata": {},
   "outputs": [
    {
     "name": "stdout",
     "output_type": "stream",
     "text": [
      "OOB accuracy: 0.9428571428571428\n"
     ]
    }
   ],
   "source": [
    "bag_clf_oob = BaggingClassifier(\n",
    "    DecisionTreeClassifier(), n_estimators=200,\n",
    "    bootstrap=True, oob_score=True, n_jobs=-1, random_state=42\n",
    ")\n",
    "bag_clf_oob.fit(X_train, y_train)\n",
    "print(\"OOB accuracy:\", bag_clf_oob.oob_score_)"
   ]
  },
  {
   "cell_type": "code",
   "execution_count": 7,
   "id": "5d0b6430-1dd4-4e04-a691-df722a1340dc",
   "metadata": {},
   "outputs": [
    {
     "name": "stderr",
     "output_type": "stream",
     "text": [
      "C:\\Users\\Dell\\anaconda3\\Lib\\site-packages\\sklearn\\ensemble\\_weight_boosting.py:527: FutureWarning: The SAMME.R algorithm (the default) is deprecated and will be removed in 1.6. Use the SAMME algorithm to circumvent this warning.\n",
      "  warnings.warn(\n"
     ]
    },
    {
     "name": "stdout",
     "output_type": "stream",
     "text": [
      "AdaBoost accuracy: 0.9777777777777777\n",
      "Gradient Boosting accuracy: 1.0\n"
     ]
    }
   ],
   "source": [
    "ada_clf = AdaBoostClassifier(\n",
    "    DecisionTreeClassifier(max_depth=1), n_estimators=200,\n",
    "    algorithm=\"SAMME.R\", learning_rate=0.5, random_state=42\n",
    ")\n",
    "ada_clf.fit(X_train, y_train)\n",
    "print(\"AdaBoost accuracy:\", accuracy_score(y_test, ada_clf.predict(X_test)))\n",
    "\n",
    "gbrt_clf = GradientBoostingClassifier(\n",
    "    max_depth=3, n_estimators=200, learning_rate=0.1, random_state=42\n",
    ")\n",
    "gbrt_clf.fit(X_train, y_train)\n",
    "print(\"Gradient Boosting accuracy:\", accuracy_score(y_test, gbrt_clf.predict(X_test)))\n"
   ]
  },
  {
   "cell_type": "code",
   "execution_count": 10,
   "id": "30f5f6ad-4b95-4a99-8793-43b6ed4cab2e",
   "metadata": {},
   "outputs": [
    {
     "name": "stdout",
     "output_type": "stream",
     "text": [
      "Best params: {'estimator__max_depth': 2, 'learning_rate': 0.01, 'n_estimators': 50}\n",
      "Best CV score: 0.9428571428571428\n"
     ]
    },
    {
     "name": "stderr",
     "output_type": "stream",
     "text": [
      "C:\\Users\\Dell\\anaconda3\\Lib\\site-packages\\sklearn\\ensemble\\_weight_boosting.py:527: FutureWarning: The SAMME.R algorithm (the default) is deprecated and will be removed in 1.6. Use the SAMME algorithm to circumvent this warning.\n",
      "  warnings.warn(\n"
     ]
    }
   ],
   "source": [
    "from sklearn.tree import DecisionTreeClassifier\n",
    "\n",
    "# Base estimator with default settings\n",
    "base_estimator = DecisionTreeClassifier()\n",
    "\n",
    "# Corrected param_grid with 'estimator__max_depth'\n",
    "param_grid = {\n",
    "    'n_estimators': [50, 100, 200],\n",
    "    'learning_rate': [0.01, 0.1, 0.2],\n",
    "    'estimator__max_depth': [1, 2, 3]\n",
    "}\n",
    "\n",
    "grid_search = GridSearchCV(\n",
    "    AdaBoostClassifier(estimator=base_estimator, random_state=42),\n",
    "    param_grid,\n",
    "    cv=5,\n",
    "    scoring='accuracy',\n",
    "    n_jobs=-1\n",
    ")\n",
    "\n",
    "grid_search.fit(X_train, y_train)\n",
    "\n",
    "print(\"Best params:\", grid_search.best_params_)\n",
    "print(\"Best CV score:\", grid_search.best_score_)\n"
   ]
  },
  {
   "cell_type": "code",
   "execution_count": null,
   "id": "f5efc738-6ad2-4653-a453-3bb3340ce078",
   "metadata": {},
   "outputs": [],
   "source": []
  }
 ],
 "metadata": {
  "kernelspec": {
   "display_name": "Python [conda env:base] *",
   "language": "python",
   "name": "conda-base-py"
  },
  "language_info": {
   "codemirror_mode": {
    "name": "ipython",
    "version": 3
   },
   "file_extension": ".py",
   "mimetype": "text/x-python",
   "name": "python",
   "nbconvert_exporter": "python",
   "pygments_lexer": "ipython3",
   "version": "3.12.7"
  }
 },
 "nbformat": 4,
 "nbformat_minor": 5
}
